{
 "cells": [
  {
   "cell_type": "code",
   "execution_count": 1,
   "metadata": {},
   "outputs": [
    {
     "name": "stderr",
     "output_type": "stream",
     "text": [
      "Using TensorFlow backend.\n"
     ]
    },
    {
     "name": "stdout",
     "output_type": "stream",
     "text": [
      "Found 8005 images belonging to 2 classes.\n",
      "Found 2023 images belonging to 2 classes.\n",
      "Epoch 1/25\n",
      "8000/8000 [==============================] - 1239s 155ms/step - loss: 0.2707 - acc: 0.8773 - val_loss: 0.7946 - val_acc: 0.8076\n",
      "Epoch 2/25\n",
      "8000/8000 [==============================] - 1159s 145ms/step - loss: 0.0488 - acc: 0.9827 - val_loss: 1.0663 - val_acc: 0.8082\n",
      "Epoch 3/25\n",
      "8000/8000 [==============================] - 1158s 145ms/step - loss: 0.0277 - acc: 0.9906 - val_loss: 1.4086 - val_acc: 0.7934\n",
      "Epoch 4/25\n",
      "8000/8000 [==============================] - 1156s 145ms/step - loss: 0.0223 - acc: 0.9926 - val_loss: 1.3314 - val_acc: 0.7999\n",
      "Epoch 5/25\n",
      "8000/8000 [==============================] - 1157s 145ms/step - loss: 0.0169 - acc: 0.9944 - val_loss: 1.6272 - val_acc: 0.7889\n",
      "Epoch 6/25\n",
      "8000/8000 [==============================] - 1158s 145ms/step - loss: 0.0146 - acc: 0.9954 - val_loss: 1.4850 - val_acc: 0.8085\n",
      "Epoch 7/25\n",
      "8000/8000 [==============================] - 1157s 145ms/step - loss: 0.0133 - acc: 0.9959 - val_loss: 1.5638 - val_acc: 0.8148\n",
      "Epoch 8/25\n",
      "8000/8000 [==============================] - 1156s 145ms/step - loss: 0.0118 - acc: 0.9962 - val_loss: 1.6404 - val_acc: 0.8008\n",
      "Epoch 9/25\n",
      "8000/8000 [==============================] - 1157s 145ms/step - loss: 0.0110 - acc: 0.9966 - val_loss: 1.5848 - val_acc: 0.8049\n",
      "Epoch 10/25\n",
      "8000/8000 [==============================] - 1157s 145ms/step - loss: 0.0093 - acc: 0.9972 - val_loss: 1.6480 - val_acc: 0.8107\n",
      "Epoch 11/25\n",
      "8000/8000 [==============================] - 1158s 145ms/step - loss: 0.0081 - acc: 0.9974 - val_loss: 1.7343 - val_acc: 0.7895\n",
      "Epoch 12/25\n",
      "8000/8000 [==============================] - 1158s 145ms/step - loss: 0.0082 - acc: 0.9976 - val_loss: 1.7839 - val_acc: 0.8014\n",
      "Epoch 13/25\n",
      "8000/8000 [==============================] - 1157s 145ms/step - loss: 0.0080 - acc: 0.9975 - val_loss: 1.9862 - val_acc: 0.7920\n",
      "Epoch 14/25\n",
      "8000/8000 [==============================] - 1157s 145ms/step - loss: 0.0074 - acc: 0.9978 - val_loss: 1.7732 - val_acc: 0.8107\n",
      "Epoch 15/25\n",
      "8000/8000 [==============================] - 1157s 145ms/step - loss: 0.0065 - acc: 0.9980 - val_loss: 1.9480 - val_acc: 0.8027\n",
      "Epoch 16/25\n",
      "8000/8000 [==============================] - 1157s 145ms/step - loss: 0.0072 - acc: 0.9981 - val_loss: 1.8344 - val_acc: 0.8067\n",
      "Epoch 17/25\n",
      "8000/8000 [==============================] - 1160s 145ms/step - loss: 0.0063 - acc: 0.9981 - val_loss: 1.8128 - val_acc: 0.8067\n",
      "Epoch 18/25\n",
      "8000/8000 [==============================] - 1159s 145ms/step - loss: 0.0062 - acc: 0.9983 - val_loss: 1.8417 - val_acc: 0.8117\n",
      "Epoch 19/25\n",
      "8000/8000 [==============================] - 1157s 145ms/step - loss: 0.0062 - acc: 0.9982 - val_loss: 1.8231 - val_acc: 0.8092\n",
      "Epoch 20/25\n",
      "8000/8000 [==============================] - 1157s 145ms/step - loss: 0.0057 - acc: 0.9985 - val_loss: 1.8185 - val_acc: 0.8082\n",
      "Epoch 21/25\n",
      "8000/8000 [==============================] - 1158s 145ms/step - loss: 0.0055 - acc: 0.9984 - val_loss: 1.9564 - val_acc: 0.7975\n",
      "Epoch 22/25\n",
      "8000/8000 [==============================] - 1157s 145ms/step - loss: 0.0052 - acc: 0.9986 - val_loss: 1.8950 - val_acc: 0.8170\n",
      "Epoch 23/25\n",
      "8000/8000 [==============================] - 1169s 146ms/step - loss: 0.0050 - acc: 0.9987 - val_loss: 1.9280 - val_acc: 0.8101\n",
      "Epoch 24/25\n",
      "8000/8000 [==============================] - 1208s 151ms/step - loss: 0.0050 - acc: 0.9986 - val_loss: 2.0619 - val_acc: 0.8081\n",
      "Epoch 25/25\n",
      "8000/8000 [==============================] - 1186s 148ms/step - loss: 0.0048 - acc: 0.9987 - val_loss: 2.0782 - val_acc: 0.8024\n"
     ]
    },
    {
     "ename": "FileNotFoundError",
     "evalue": "[Errno 2] No such file or directory: 'CNN_Data/single_prediction/cat_or_dog_1.jpg'",
     "output_type": "error",
     "traceback": [
      "\u001b[0;31m---------------------------------------------------------------------------\u001b[0m",
      "\u001b[0;31mFileNotFoundError\u001b[0m                         Traceback (most recent call last)",
      "\u001b[0;32m<ipython-input-1-8654ba18266d>\u001b[0m in \u001b[0;36m<module>\u001b[0;34m()\u001b[0m\n\u001b[1;32m     44\u001b[0m \u001b[0;32mimport\u001b[0m \u001b[0mnumpy\u001b[0m \u001b[0;32mas\u001b[0m \u001b[0mnp\u001b[0m\u001b[0;34m\u001b[0m\u001b[0m\n\u001b[1;32m     45\u001b[0m \u001b[0;32mfrom\u001b[0m \u001b[0mkeras\u001b[0m\u001b[0;34m.\u001b[0m\u001b[0mpreprocessing\u001b[0m \u001b[0;32mimport\u001b[0m \u001b[0mimage\u001b[0m\u001b[0;34m\u001b[0m\u001b[0m\n\u001b[0;32m---> 46\u001b[0;31m \u001b[0mtest_image\u001b[0m \u001b[0;34m=\u001b[0m \u001b[0mimage\u001b[0m\u001b[0;34m.\u001b[0m\u001b[0mload_img\u001b[0m\u001b[0;34m(\u001b[0m\u001b[0;34m'CNN_Data/single_prediction/cat_or_dog_1.jpg'\u001b[0m\u001b[0;34m,\u001b[0m \u001b[0mtarget_size\u001b[0m \u001b[0;34m=\u001b[0m \u001b[0;34m(\u001b[0m\u001b[0;36m64\u001b[0m\u001b[0;34m,\u001b[0m \u001b[0;36m64\u001b[0m\u001b[0;34m)\u001b[0m\u001b[0;34m)\u001b[0m\u001b[0;34m\u001b[0m\u001b[0m\n\u001b[0m\u001b[1;32m     47\u001b[0m \u001b[0mtest_image\u001b[0m \u001b[0;34m=\u001b[0m \u001b[0mimage\u001b[0m\u001b[0;34m.\u001b[0m\u001b[0mimg_to_array\u001b[0m\u001b[0;34m(\u001b[0m\u001b[0mtest_image\u001b[0m\u001b[0;34m)\u001b[0m\u001b[0;34m\u001b[0m\u001b[0m\n\u001b[1;32m     48\u001b[0m \u001b[0mtest_image\u001b[0m \u001b[0;34m=\u001b[0m \u001b[0mnp\u001b[0m\u001b[0;34m.\u001b[0m\u001b[0mexpand_dims\u001b[0m\u001b[0;34m(\u001b[0m\u001b[0mtest_image\u001b[0m\u001b[0;34m,\u001b[0m \u001b[0maxis\u001b[0m \u001b[0;34m=\u001b[0m \u001b[0;36m0\u001b[0m\u001b[0;34m)\u001b[0m\u001b[0;34m\u001b[0m\u001b[0m\n",
      "\u001b[0;32m/utopia/Documents/ML/env/lib/python3.6/site-packages/keras/preprocessing/image.py\u001b[0m in \u001b[0;36mload_img\u001b[0;34m(path, grayscale, target_size, interpolation)\u001b[0m\n\u001b[1;32m    347\u001b[0m         raise ImportError('Could not import PIL.Image. '\n\u001b[1;32m    348\u001b[0m                           'The use of `array_to_img` requires PIL.')\n\u001b[0;32m--> 349\u001b[0;31m     \u001b[0mimg\u001b[0m \u001b[0;34m=\u001b[0m \u001b[0mpil_image\u001b[0m\u001b[0;34m.\u001b[0m\u001b[0mopen\u001b[0m\u001b[0;34m(\u001b[0m\u001b[0mpath\u001b[0m\u001b[0;34m)\u001b[0m\u001b[0;34m\u001b[0m\u001b[0m\n\u001b[0m\u001b[1;32m    350\u001b[0m     \u001b[0;32mif\u001b[0m \u001b[0mgrayscale\u001b[0m\u001b[0;34m:\u001b[0m\u001b[0;34m\u001b[0m\u001b[0m\n\u001b[1;32m    351\u001b[0m         \u001b[0;32mif\u001b[0m \u001b[0mimg\u001b[0m\u001b[0;34m.\u001b[0m\u001b[0mmode\u001b[0m \u001b[0;34m!=\u001b[0m \u001b[0;34m'L'\u001b[0m\u001b[0;34m:\u001b[0m\u001b[0;34m\u001b[0m\u001b[0m\n",
      "\u001b[0;32m/utopia/Documents/ML/env/lib/python3.6/site-packages/PIL/Image.py\u001b[0m in \u001b[0;36mopen\u001b[0;34m(fp, mode)\u001b[0m\n\u001b[1;32m   2541\u001b[0m \u001b[0;34m\u001b[0m\u001b[0m\n\u001b[1;32m   2542\u001b[0m     \u001b[0;32mif\u001b[0m \u001b[0mfilename\u001b[0m\u001b[0;34m:\u001b[0m\u001b[0;34m\u001b[0m\u001b[0m\n\u001b[0;32m-> 2543\u001b[0;31m         \u001b[0mfp\u001b[0m \u001b[0;34m=\u001b[0m \u001b[0mbuiltins\u001b[0m\u001b[0;34m.\u001b[0m\u001b[0mopen\u001b[0m\u001b[0;34m(\u001b[0m\u001b[0mfilename\u001b[0m\u001b[0;34m,\u001b[0m \u001b[0;34m\"rb\"\u001b[0m\u001b[0;34m)\u001b[0m\u001b[0;34m\u001b[0m\u001b[0m\n\u001b[0m\u001b[1;32m   2544\u001b[0m         \u001b[0mexclusive_fp\u001b[0m \u001b[0;34m=\u001b[0m \u001b[0;32mTrue\u001b[0m\u001b[0;34m\u001b[0m\u001b[0m\n\u001b[1;32m   2545\u001b[0m \u001b[0;34m\u001b[0m\u001b[0m\n",
      "\u001b[0;31mFileNotFoundError\u001b[0m: [Errno 2] No such file or directory: 'CNN_Data/single_prediction/cat_or_dog_1.jpg'"
     ]
    }
   ],
   "source": [
    "# Importing the Keras libraries and packages\n",
    "from keras.models import Sequential\n",
    "from keras.layers import Conv2D\n",
    "from keras.layers import MaxPooling2D\n",
    "from keras.layers import Flatten\n",
    "from keras.layers import Dense\n",
    "# Initialising the CNN\n",
    "classifier = Sequential()\n",
    "# Step 1 - Convolution\n",
    "classifier.add(Conv2D(32, (3, 3), input_shape = (64, 64, 3), activation = 'relu'))\n",
    "# Step 2 - Pooling\n",
    "classifier.add(MaxPooling2D(pool_size = (2, 2)))\n",
    "# Adding a second convolutional layer\n",
    "classifier.add(Conv2D(32, (3, 3), activation = 'relu'))\n",
    "classifier.add(MaxPooling2D(pool_size = (2, 2)))\n",
    "# Step 3 - Flattening\n",
    "classifier.add(Flatten())\n",
    "# Step 4 - Full connection\n",
    "classifier.add(Dense(units = 128, activation = 'relu'))\n",
    "classifier.add(Dense(units = 1, activation = 'sigmoid'))\n",
    "# Compiling the CNN\n",
    "classifier.compile(optimizer = 'adam', loss = 'binary_crossentropy', metrics = ['accuracy'])\n",
    "# Part 2 - Fitting the CNN to the images\n",
    "from keras.preprocessing.image import ImageDataGenerator\n",
    "train_datagen = ImageDataGenerator(rescale = 1./255,\n",
    "shear_range = 0.2,\n",
    "zoom_range = 0.2,\n",
    "horizontal_flip = True)\n",
    "test_datagen = ImageDataGenerator(rescale = 1./255)\n",
    "training_set = train_datagen.flow_from_directory('CNN_Data/training_set',\n",
    "target_size = (64, 64),\n",
    "batch_size = 50,\n",
    "class_mode = 'binary')\n",
    "test_set = test_datagen.flow_from_directory('CNN_Data/test_set',\n",
    "target_size = (64, 64),\n",
    "batch_size = 50,\n",
    "class_mode = 'binary')\n",
    "classifier.fit_generator(training_set,\n",
    "steps_per_epoch = 8000,\n",
    "epochs = 25,\n",
    "validation_data = test_set,\n",
    "validation_steps = 2000)\n",
    "# Part 3 - Making new predictions\n",
    "import numpy as np\n",
    "from keras.preprocessing import image\n",
    "test_image = image.load_img('CNN_Data/single_prediction/cat_or_dog_1.jpg', target_size = (64, 64))\n",
    "test_image = image.img_to_array(test_image)\n",
    "test_image = np.expand_dims(test_image, axis = 0)\n",
    "result = classifier.predict(test_image)"
   ]
  },
  {
   "cell_type": "code",
   "execution_count": null,
   "metadata": {},
   "outputs": [],
   "source": [
    "t0 = time.time()\n",
    "a = torch.randn(100,30,28)\n",
    "b = torch.randn(100,28,28)\n",
    "t1 = time.time()\n",
    "c = torch.bmm(a,b)\n",
    "torch.inverse(torch.randn(100,100))\n",
    "print(t1 - t0)"
   ]
  },
  {
   "cell_type": "code",
   "execution_count": null,
   "metadata": {},
   "outputs": [],
   "source": [
    "torch.cuda.synchronize()\n",
    "t0 = time.time()\n",
    "a = torch.randn(100,28,28).cuda()\n",
    "b = torch.randn(100,28,28).cuda()\n",
    "torch.cuda.synchronize()\n",
    "c = torch.bmm(a,b)\n",
    "torch.cuda.synchronize()\n",
    "torch.inverse(torch.randn(100,100).cuda())\n",
    "torch.cuda.synchronize()\n",
    "t1 = time.time()\n",
    "print(t1 - t0)"
   ]
  }
 ],
 "metadata": {
  "kernelspec": {
   "display_name": "Python 3",
   "language": "python",
   "name": "python3"
  },
  "language_info": {
   "codemirror_mode": {
    "name": "ipython",
    "version": 3
   },
   "file_extension": ".py",
   "mimetype": "text/x-python",
   "name": "python",
   "nbconvert_exporter": "python",
   "pygments_lexer": "ipython3",
   "version": "3.6.4"
  }
 },
 "nbformat": 4,
 "nbformat_minor": 2
}
