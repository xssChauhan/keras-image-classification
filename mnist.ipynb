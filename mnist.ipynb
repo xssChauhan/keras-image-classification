{
 "cells": [
  {
   "cell_type": "code",
   "execution_count": 16,
   "metadata": {},
   "outputs": [],
   "source": [
    "import keras\n",
    "from keras.datasets import mnist\n",
    "from keras.models import Sequential\n",
    "from keras.layers import Dense , Dropout , Flatten\n",
    "from keras.layers import Conv2D , MaxPooling2D\n",
    "from keras import backend as K\n",
    "from time import time"
   ]
  },
  {
   "cell_type": "code",
   "execution_count": 17,
   "metadata": {},
   "outputs": [],
   "source": [
    "batch_size = 128\n",
    "num_classes = 10\n",
    "epochs = 12"
   ]
  },
  {
   "cell_type": "code",
   "execution_count": 18,
   "metadata": {},
   "outputs": [],
   "source": [
    "img_rows , img_cols = 28 , 28\n",
    "\n",
    "(x_train , y_train) , (x_test , y_test) = mnist.load_data()"
   ]
  },
  {
   "cell_type": "code",
   "execution_count": 19,
   "metadata": {},
   "outputs": [
    {
     "data": {
      "text/plain": [
       "'channels_last'"
      ]
     },
     "execution_count": 19,
     "metadata": {},
     "output_type": "execute_result"
    }
   ],
   "source": [
    "K.image_data_format()"
   ]
  },
  {
   "cell_type": "code",
   "execution_count": 20,
   "metadata": {},
   "outputs": [
    {
     "data": {
      "text/plain": [
       "<matplotlib.image.AxesImage at 0x7fac6c8354e0>"
      ]
     },
     "execution_count": 20,
     "metadata": {},
     "output_type": "execute_result"
    },
    {
     "data": {
      "image/png": "[encoded data removed]",
      "text/plain": [
       "<matplotlib.figure.Figure at 0x7fac6c8784e0>"
      ]
     },
     "metadata": {},
     "output_type": "display_data"
    }
   ],
   "source": [
    "from matplotlib import pyplot\n",
    "pyplot.imshow(x_train[0]/255)"
   ]
  },
  {
   "cell_type": "code",
   "execution_count": 21,
   "metadata": {},
   "outputs": [],
   "source": [
    "x_train  = x_train.reshape(x_train.shape[0] , img_rows , img_cols , 1)\n",
    "x_test = x_test.reshape(x_test.shape[0] , img_rows , img_cols , 1)\n",
    "input_shape = (img_rows , img_cols , 1)"
   ]
  },
  {
   "cell_type": "code",
   "execution_count": 22,
   "metadata": {},
   "outputs": [],
   "source": [
    "x_train = x_train.astype('float32')\n",
    "x_test = x_test.astype('float32')\n",
    "\n",
    "x_train /= 255\n",
    "x_test /= 255"
   ]
  },
  {
   "cell_type": "code",
   "execution_count": 23,
   "metadata": {},
   "outputs": [
    {
     "name": "stdout",
     "output_type": "stream",
     "text": [
      "x_train shape: (60000, 28, 28, 1)\n",
      "60000 train samples\n",
      "10000 test samples\n"
     ]
    }
   ],
   "source": [
    "print('x_train shape:', x_train.shape)\n",
    "print(x_train.shape[0], 'train samples')\n",
    "print(x_test.shape[0], 'test samples')"
   ]
  },
  {
   "cell_type": "code",
   "execution_count": 24,
   "metadata": {},
   "outputs": [],
   "source": [
    "y_train = keras.utils.to_categorical(y_train, num_classes)\n",
    "y_test = keras.utils.to_categorical(y_test, num_classes)"
   ]
  },
  {
   "cell_type": "code",
   "execution_count": 25,
   "metadata": {},
   "outputs": [],
   "source": [
    "#A Basic Model\n",
    "# Conv ->  MaxPool -> Fully Connected\n",
    "# Mean Squared Error , SGD\n",
    "\n",
    "def basic_model(num_filters = 10, \n",
    "                loss = keras.losses.mean_squared_error, \n",
    "                optimizer = keras.optimizers.SGD()):\n",
    "    tensorboard = TensorBoard(log_dir=\"logs/{}\".format(time()))\n",
    "    model_1 = Sequential()\n",
    "    model_1.add(\n",
    "        Conv2D(\n",
    "            num_filters,\n",
    "            kernel_size = (3,3),\n",
    "            activation = 'relu',\n",
    "            input_shape = input_shape\n",
    "        )\n",
    "    )\n",
    "\n",
    "    model_1.add(MaxPooling2D(pool_size = (2,2)))\n",
    "    model_1.add(Flatten())\n",
    "    model_1.add(\n",
    "        Dense(num_classes , activation = 'sigmoid')\n",
    "    )\n",
    "\n",
    "    model_1.compile(\n",
    "        loss = loss,\n",
    "        optimizer = keras.optimizers.SGD(),\n",
    "        metrics = ['accuracy']\n",
    "    )\n",
    "\n",
    "    #Now we train this model\n",
    "    model_1.fit(\n",
    "        x_train , y_train,\n",
    "        batch_size = batch_size,\n",
    "        epochs = epochs,\n",
    "        verbose = 1,\n",
    "        validation_data = (x_test , y_test),\n",
    "        callbacks=[tensorboard]\n",
    "    )\n",
    "\n",
    "    #Let us evaluate\n",
    "\n",
    "    score = model_1.evaluate(x_test , y_test , verbose = 0)\n",
    "    print(\"Test loss: \" , score[0])\n",
    "    print('Test accuracy:', score[1])\n",
    "    return model_1"
   ]
  },
  {
   "cell_type": "code",
   "execution_count": 26,
   "metadata": {},
   "outputs": [
    {
     "name": "stdout",
     "output_type": "stream",
     "text": [
      "Train on 60000 samples, validate on 10000 samples\n",
      "Epoch 1/12\n",
      "60000/60000 [==============================] - 4s 75us/step - loss: 0.1284 - acc: 0.1797 - val_loss: 0.0893 - val_acc: 0.2869\n",
      "Epoch 2/12\n",
      "60000/60000 [==============================] - 2s 38us/step - loss: 0.0871 - acc: 0.3805 - val_loss: 0.0851 - val_acc: 0.4367\n",
      "Epoch 3/12\n",
      "60000/60000 [==============================] - 2s 35us/step - loss: 0.0833 - acc: 0.4475 - val_loss: 0.0812 - val_acc: 0.4699\n",
      "Epoch 4/12\n",
      "60000/60000 [==============================] - 2s 41us/step - loss: 0.0791 - acc: 0.4835 - val_loss: 0.0765 - val_acc: 0.5197\n",
      "Epoch 5/12\n",
      "60000/60000 [==============================] - 2s 37us/step - loss: 0.0742 - acc: 0.5465 - val_loss: 0.0712 - val_acc: 0.5882\n",
      "Epoch 6/12\n",
      "60000/60000 [==============================] - 2s 38us/step - loss: 0.0687 - acc: 0.6139 - val_loss: 0.0655 - val_acc: 0.6481\n",
      "Epoch 7/12\n",
      "60000/60000 [==============================] - 2s 38us/step - loss: 0.0632 - acc: 0.6582 - val_loss: 0.0600 - val_acc: 0.6803\n",
      "Epoch 8/12\n",
      "60000/60000 [==============================] - 2s 37us/step - loss: 0.0582 - acc: 0.6798 - val_loss: 0.0552 - val_acc: 0.7016\n",
      "Epoch 9/12\n",
      "60000/60000 [==============================] - 2s 39us/step - loss: 0.0539 - acc: 0.6983 - val_loss: 0.0512 - val_acc: 0.7222\n",
      "Epoch 10/12\n",
      "60000/60000 [==============================] - 2s 39us/step - loss: 0.0504 - acc: 0.7182 - val_loss: 0.0480 - val_acc: 0.7386\n",
      "Epoch 11/12\n",
      "60000/60000 [==============================] - 2s 39us/step - loss: 0.0475 - acc: 0.7362 - val_loss: 0.0453 - val_acc: 0.7545\n",
      "Epoch 12/12\n",
      "60000/60000 [==============================] - 2s 37us/step - loss: 0.0451 - acc: 0.7496 - val_loss: 0.0430 - val_acc: 0.7670\n",
      "Test loss:  0.0429562427341938\n",
      "Test accuracy: 0.767\n"
     ]
    }
   ],
   "source": [
    "#Model 1\n",
    "#Here we test with only 10 filters in our convolution layer\n",
    "first_model = basic_model(num_filters= 10)"
   ]
  },
  {
   "cell_type": "code",
   "execution_count": 26,
   "metadata": {},
   "outputs": [
    {
     "data": {
      "text/plain": [
       "(None, 13, 13, 10)"
      ]
     },
     "execution_count": 26,
     "metadata": {},
     "output_type": "execute_result"
    }
   ],
   "source": [
    "import numpy as np\n",
    "\n",
    "first_model.layers[1].output_shape"
   ]
  },
  {
   "cell_type": "code",
   "execution_count": 27,
   "metadata": {},
   "outputs": [
    {
     "name": "stdout",
     "output_type": "stream",
     "text": [
      "Train on 60000 samples, validate on 10000 samples\n",
      "Epoch 1/12\n",
      "60000/60000 [==============================] - 3s 46us/step - loss: 0.1363 - acc: 0.1658 - val_loss: 0.0901 - val_acc: 0.2890\n",
      "Epoch 2/12\n",
      "60000/60000 [==============================] - 3s 48us/step - loss: 0.0883 - acc: 0.3440 - val_loss: 0.0870 - val_acc: 0.3837\n",
      "Epoch 3/12\n",
      "60000/60000 [==============================] - 3s 43us/step - loss: 0.0861 - acc: 0.4053 - val_loss: 0.0849 - val_acc: 0.4420\n",
      "Epoch 4/12\n",
      "60000/60000 [==============================] - 3s 50us/step - loss: 0.0838 - acc: 0.4792 - val_loss: 0.0823 - val_acc: 0.5206\n",
      "Epoch 5/12\n",
      "60000/60000 [==============================] - 2s 41us/step - loss: 0.0807 - acc: 0.5528 - val_loss: 0.0786 - val_acc: 0.5866\n",
      "Epoch 6/12\n",
      "60000/60000 [==============================] - 3s 50us/step - loss: 0.0765 - acc: 0.5949 - val_loss: 0.0736 - val_acc: 0.6189\n",
      "Epoch 7/12\n",
      "60000/60000 [==============================] - 3s 54us/step - loss: 0.0710 - acc: 0.6259 - val_loss: 0.0675 - val_acc: 0.6510\n",
      "Epoch 8/12\n",
      "60000/60000 [==============================] - 3s 43us/step - loss: 0.0649 - acc: 0.6625 - val_loss: 0.0613 - val_acc: 0.6841\n",
      "Epoch 9/12\n",
      "60000/60000 [==============================] - 2s 40us/step - loss: 0.0591 - acc: 0.6970 - val_loss: 0.0557 - val_acc: 0.7288\n",
      "Epoch 10/12\n",
      "60000/60000 [==============================] - 3s 47us/step - loss: 0.0540 - acc: 0.7375 - val_loss: 0.0510 - val_acc: 0.7636\n",
      "Epoch 11/12\n",
      "60000/60000 [==============================] - 3s 44us/step - loss: 0.0498 - acc: 0.7687 - val_loss: 0.0471 - val_acc: 0.7926\n",
      "Epoch 12/12\n",
      "60000/60000 [==============================] - 3s 51us/step - loss: 0.0463 - acc: 0.7931 - val_loss: 0.0439 - val_acc: 0.8100\n",
      "Test loss:  0.04385416472554207\n",
      "Test accuracy: 0.81\n"
     ]
    }
   ],
   "source": [
    "#Model 2\n",
    "#Here we test with an increased number of filters n = 20\n",
    "\n",
    "second_model = basic_model(num_filters= 20)"
   ]
  },
  {
   "cell_type": "code",
   "execution_count": 28,
   "metadata": {},
   "outputs": [
    {
     "name": "stdout",
     "output_type": "stream",
     "text": [
      "Train on 60000 samples, validate on 10000 samples\n",
      "Epoch 1/12\n",
      "60000/60000 [==============================] - 4s 59us/step - loss: 0.1207 - acc: 0.2547 - val_loss: 0.0887 - val_acc: 0.3627\n",
      "Epoch 2/12\n",
      "60000/60000 [==============================] - 3s 53us/step - loss: 0.0865 - acc: 0.3592 - val_loss: 0.0845 - val_acc: 0.3625\n",
      "Epoch 3/12\n",
      "60000/60000 [==============================] - 4s 60us/step - loss: 0.0826 - acc: 0.3799 - val_loss: 0.0803 - val_acc: 0.4241\n",
      "Epoch 4/12\n",
      "60000/60000 [==============================] - 3s 53us/step - loss: 0.0781 - acc: 0.4675 - val_loss: 0.0754 - val_acc: 0.5271\n",
      "Epoch 5/12\n",
      "60000/60000 [==============================] - 3s 46us/step - loss: 0.0729 - acc: 0.5615 - val_loss: 0.0698 - val_acc: 0.6089\n",
      "Epoch 6/12\n",
      "60000/60000 [==============================] - 3s 53us/step - loss: 0.0672 - acc: 0.6275 - val_loss: 0.0637 - val_acc: 0.6635\n",
      "Epoch 7/12\n",
      "60000/60000 [==============================] - 3s 49us/step - loss: 0.0612 - acc: 0.6757 - val_loss: 0.0578 - val_acc: 0.7084\n",
      "Epoch 8/12\n",
      "60000/60000 [==============================] - 3s 51us/step - loss: 0.0559 - acc: 0.7206 - val_loss: 0.0528 - val_acc: 0.7516\n",
      "Epoch 9/12\n",
      "60000/60000 [==============================] - 3s 51us/step - loss: 0.0514 - acc: 0.7612 - val_loss: 0.0486 - val_acc: 0.7874\n",
      "Epoch 10/12\n",
      "60000/60000 [==============================] - 3s 54us/step - loss: 0.0476 - acc: 0.7900 - val_loss: 0.0451 - val_acc: 0.8117\n",
      "Epoch 11/12\n",
      "60000/60000 [==============================] - 3s 52us/step - loss: 0.0445 - acc: 0.8092 - val_loss: 0.0422 - val_acc: 0.8282\n",
      "Epoch 12/12\n",
      "60000/60000 [==============================] - 3s 47us/step - loss: 0.0419 - acc: 0.8215 - val_loss: 0.0398 - val_acc: 0.8365\n",
      "Test loss:  0.039797540938854216\n",
      "Test accuracy: 0.8365\n"
     ]
    }
   ],
   "source": [
    "#Let's bump it further\n",
    "#Number of filters = 30\n",
    "third_model = basic_model(num_filters = 25)"
   ]
  },
  {
   "cell_type": "code",
   "execution_count": 29,
   "metadata": {},
   "outputs": [
    {
     "name": "stdout",
     "output_type": "stream",
     "text": [
      "Train on 60000 samples, validate on 10000 samples\n",
      "Epoch 1/12\n",
      "60000/60000 [==============================] - 3s 50us/step - loss: 1.6675 - acc: 0.5473 - val_loss: 0.5617 - val_acc: 0.8599\n",
      "Epoch 2/12\n",
      "60000/60000 [==============================] - 2s 38us/step - loss: 0.4465 - acc: 0.8765 - val_loss: 0.3599 - val_acc: 0.8994\n",
      "Epoch 3/12\n",
      "60000/60000 [==============================] - 2s 39us/step - loss: 0.3599 - acc: 0.8965 - val_loss: 0.3205 - val_acc: 0.9103\n",
      "Epoch 4/12\n",
      "60000/60000 [==============================] - 2s 40us/step - loss: 0.3333 - acc: 0.9043 - val_loss: 0.3045 - val_acc: 0.9138\n",
      "Epoch 5/12\n",
      "60000/60000 [==============================] - 2s 41us/step - loss: 0.3187 - acc: 0.9083 - val_loss: 0.2957 - val_acc: 0.9151\n",
      "Epoch 6/12\n",
      "60000/60000 [==============================] - 3s 47us/step - loss: 0.3096 - acc: 0.9102 - val_loss: 0.2909 - val_acc: 0.9182\n",
      "Epoch 7/12\n",
      "60000/60000 [==============================] - 3s 52us/step - loss: 0.3026 - acc: 0.9123 - val_loss: 0.2795 - val_acc: 0.9205\n",
      "Epoch 8/12\n",
      "60000/60000 [==============================] - 2s 38us/step - loss: 0.2964 - acc: 0.9142 - val_loss: 0.2793 - val_acc: 0.9217\n",
      "Epoch 9/12\n",
      "60000/60000 [==============================] - 3s 48us/step - loss: 0.2916 - acc: 0.9156 - val_loss: 0.2742 - val_acc: 0.9205\n",
      "Epoch 10/12\n",
      "60000/60000 [==============================] - 2s 37us/step - loss: 0.2874 - acc: 0.9171 - val_loss: 0.2726 - val_acc: 0.9211\n",
      "Epoch 11/12\n",
      "60000/60000 [==============================] - 2s 36us/step - loss: 0.2839 - acc: 0.9178 - val_loss: 0.2706 - val_acc: 0.9241\n",
      "Epoch 12/12\n",
      "60000/60000 [==============================] - 3s 42us/step - loss: 0.2798 - acc: 0.9192 - val_loss: 0.2693 - val_acc: 0.9232\n",
      "Test loss:  0.2693453865259886\n",
      "Test accuracy: 0.9232\n"
     ]
    }
   ],
   "source": [
    "#Enough with changing the number of filters\n",
    "# Loss function , Optimizer tuning\n",
    "\n",
    "fourth_model = basic_model(\n",
    "    loss = keras.losses.categorical_crossentropy,\n",
    "    optimizer = keras.optimizers.Adadelta()\n",
    ")"
   ]
  },
  {
   "cell_type": "code",
   "execution_count": 30,
   "metadata": {},
   "outputs": [],
   "source": [
    "#Now let us try modifying the architecture of our network\n",
    "\n",
    "def a_better_model(num_filters = 32 ,\n",
    "                  loss = keras.losses.categorical_crossentropy,\n",
    "                  optimizer = keras.optimizers.Adadelta(),\n",
    "                   dropout_1 = False,\n",
    "                   dropout_2 = False\n",
    "                  ):\n",
    "    tensorboard = TensorBoard(log_dir=\"logs/{}\".format(time()))\n",
    "    model_1 = Sequential()\n",
    "    model_1.add(\n",
    "        Conv2D(\n",
    "            num_filters,\n",
    "            kernel_size = (3,3),\n",
    "            activation = 'relu',\n",
    "            input_shape = input_shape\n",
    "        )\n",
    "    )\n",
    "    \n",
    "    #A new Convolution Layer\n",
    "    model_1.add(\n",
    "        Conv2D(\n",
    "            64 , (3,3),\n",
    "            activation = 'relu'\n",
    "        )\n",
    "    )\n",
    "\n",
    "    model_1.add(MaxPooling2D(pool_size = (2,2)))\n",
    "    \n",
    "    if dropout_1:\n",
    "        model_1.add(Dropout(0.25))\n",
    "    \n",
    "    model_1.add(Flatten())\n",
    "    model_1.add(\n",
    "        Dense(128 , activation = 'relu')\n",
    "    )\n",
    "    if dropout_2:\n",
    "        model_1.add(Dropout(0.5))\n",
    "    \n",
    "    model_1.add(\n",
    "        Dense(num_classes , activation = 'softmax')\n",
    "    )\n",
    "\n",
    "    model_1.compile(\n",
    "        loss = loss,\n",
    "        optimizer = optimizer,\n",
    "        metrics = ['accuracy']\n",
    "    )\n",
    "\n",
    "    #Now we train this model\n",
    "    model_1.fit(\n",
    "        x_train , y_train,\n",
    "        batch_size = batch_size,\n",
    "        epochs = epochs,\n",
    "        verbose = 1,\n",
    "        validation_data = (x_test , y_test),\n",
    "        callbacks=[tensorboard]\n",
    "    )\n",
    "\n",
    "    #Let us evaluate\n",
    "\n",
    "    score = model_1.evaluate(x_test , y_test , verbose = 0)\n",
    "    print(\"Test loss: \" , score[0])\n",
    "    print('Test accuracy:', score[1])\n",
    "    return model_1"
   ]
  },
  {
   "cell_type": "code",
   "execution_count": 31,
   "metadata": {
    "scrolled": true
   },
   "outputs": [
    {
     "name": "stdout",
     "output_type": "stream",
     "text": [
      "Train on 60000 samples, validate on 10000 samples\n",
      "Epoch 1/12\n",
      "60000/60000 [==============================] - 10s 162us/step - loss: 0.1894 - acc: 0.9424 - val_loss: 0.0586 - val_acc: 0.9798\n",
      "Epoch 2/12\n",
      "60000/60000 [==============================] - 9s 158us/step - loss: 0.0445 - acc: 0.9865 - val_loss: 0.0399 - val_acc: 0.9874\n",
      "Epoch 3/12\n",
      "60000/60000 [==============================] - 9s 157us/step - loss: 0.0270 - acc: 0.9917 - val_loss: 0.0390 - val_acc: 0.9878\n",
      "Epoch 4/12\n",
      "60000/60000 [==============================] - 9s 148us/step - loss: 0.0187 - acc: 0.9943 - val_loss: 0.0305 - val_acc: 0.9897\n",
      "Epoch 5/12\n",
      "60000/60000 [==============================] - 9s 145us/step - loss: 0.0127 - acc: 0.9962 - val_loss: 0.0344 - val_acc: 0.9896\n",
      "Epoch 6/12\n",
      "60000/60000 [==============================] - 9s 146us/step - loss: 0.0084 - acc: 0.9975 - val_loss: 0.0314 - val_acc: 0.9917\n",
      "Epoch 7/12\n",
      "60000/60000 [==============================] - 9s 148us/step - loss: 0.0054 - acc: 0.9987 - val_loss: 0.0301 - val_acc: 0.9917\n",
      "Epoch 8/12\n",
      "60000/60000 [==============================] - 9s 155us/step - loss: 0.0036 - acc: 0.9991 - val_loss: 0.0304 - val_acc: 0.9922\n",
      "Epoch 9/12\n",
      "60000/60000 [==============================] - 9s 158us/step - loss: 0.0023 - acc: 0.9995 - val_loss: 0.0350 - val_acc: 0.9913\n",
      "Epoch 10/12\n",
      "60000/60000 [==============================] - 9s 152us/step - loss: 0.0014 - acc: 0.9996 - val_loss: 0.0485 - val_acc: 0.9890\n",
      "Epoch 11/12\n",
      "60000/60000 [==============================] - 9s 153us/step - loss: 0.0014 - acc: 0.9996 - val_loss: 0.0377 - val_acc: 0.9915\n",
      "Epoch 12/12\n",
      "60000/60000 [==============================] - 9s 152us/step - loss: 9.2210e-04 - acc: 0.9998 - val_loss: 0.0394 - val_acc: 0.9918\n",
      "Test loss:  0.03937064250856581\n",
      "Test accuracy: 0.9918\n"
     ]
    }
   ],
   "source": [
    "fifth_model = a_better_model()"
   ]
  },
  {
   "cell_type": "code",
   "execution_count": 32,
   "metadata": {
    "scrolled": true
   },
   "outputs": [
    {
     "name": "stdout",
     "output_type": "stream",
     "text": [
      "Train on 60000 samples, validate on 10000 samples\n",
      "Epoch 1/12\n",
      "60000/60000 [==============================] - 10s 171us/step - loss: 0.1954 - acc: 0.9402 - val_loss: 0.0555 - val_acc: 0.9819\n",
      "Epoch 2/12\n",
      "60000/60000 [==============================] - 10s 169us/step - loss: 0.0519 - acc: 0.9841 - val_loss: 0.0467 - val_acc: 0.9849\n",
      "Epoch 3/12\n",
      "60000/60000 [==============================] - 10s 172us/step - loss: 0.0330 - acc: 0.9899 - val_loss: 0.0317 - val_acc: 0.9894\n",
      "Epoch 4/12\n",
      "60000/60000 [==============================] - 10s 170us/step - loss: 0.0242 - acc: 0.9921 - val_loss: 0.0296 - val_acc: 0.9906\n",
      "Epoch 5/12\n",
      "60000/60000 [==============================] - 10s 160us/step - loss: 0.0186 - acc: 0.9939 - val_loss: 0.0327 - val_acc: 0.9890\n",
      "Epoch 6/12\n",
      "60000/60000 [==============================] - 10s 170us/step - loss: 0.0137 - acc: 0.9954 - val_loss: 0.0427 - val_acc: 0.9880\n",
      "Epoch 7/12\n",
      "60000/60000 [==============================] - 10s 175us/step - loss: 0.0109 - acc: 0.9963 - val_loss: 0.0321 - val_acc: 0.9903\n",
      "Epoch 8/12\n",
      "60000/60000 [==============================] - 10s 168us/step - loss: 0.0089 - acc: 0.9971 - val_loss: 0.0373 - val_acc: 0.9896\n",
      "Epoch 9/12\n",
      "60000/60000 [==============================] - 10s 166us/step - loss: 0.0070 - acc: 0.9978 - val_loss: 0.0312 - val_acc: 0.9911\n",
      "Epoch 10/12\n",
      "60000/60000 [==============================] - 10s 170us/step - loss: 0.0057 - acc: 0.9981 - val_loss: 0.0294 - val_acc: 0.9913\n",
      "Epoch 11/12\n",
      "60000/60000 [==============================] - 10s 170us/step - loss: 0.0043 - acc: 0.9987 - val_loss: 0.0368 - val_acc: 0.9908\n",
      "Epoch 12/12\n",
      "60000/60000 [==============================] - 10s 172us/step - loss: 0.0034 - acc: 0.9989 - val_loss: 0.0322 - val_acc: 0.9913\n",
      "Test loss:  0.03217327503920456\n",
      "Test accuracy: 0.9913\n"
     ]
    }
   ],
   "source": [
    "sixth_model = a_better_model(dropout_1 = True)"
   ]
  },
  {
   "cell_type": "code",
   "execution_count": 33,
   "metadata": {},
   "outputs": [
    {
     "name": "stdout",
     "output_type": "stream",
     "text": [
      "Train on 60000 samples, validate on 10000 samples\n",
      "Epoch 1/12\n",
      "60000/60000 [==============================] - 10s 171us/step - loss: 0.2691 - acc: 0.9179 - val_loss: 0.0576 - val_acc: 0.9802\n",
      "Epoch 2/12\n",
      "60000/60000 [==============================] - 10s 165us/step - loss: 0.0897 - acc: 0.9736 - val_loss: 0.0441 - val_acc: 0.9845\n",
      "Epoch 3/12\n",
      "60000/60000 [==============================] - 10s 166us/step - loss: 0.0673 - acc: 0.9807 - val_loss: 0.0370 - val_acc: 0.9874\n",
      "Epoch 4/12\n",
      "60000/60000 [==============================] - 10s 172us/step - loss: 0.0555 - acc: 0.9830 - val_loss: 0.0333 - val_acc: 0.9892\n",
      "Epoch 5/12\n",
      "60000/60000 [==============================] - 10s 169us/step - loss: 0.0477 - acc: 0.9855 - val_loss: 0.0287 - val_acc: 0.9908\n",
      "Epoch 6/12\n",
      "60000/60000 [==============================] - 10s 174us/step - loss: 0.0413 - acc: 0.9878 - val_loss: 0.0273 - val_acc: 0.9907\n",
      "Epoch 7/12\n",
      "60000/60000 [==============================] - 10s 167us/step - loss: 0.0367 - acc: 0.9888 - val_loss: 0.0265 - val_acc: 0.9923\n",
      "Epoch 8/12\n",
      "60000/60000 [==============================] - 10s 163us/step - loss: 0.0349 - acc: 0.9895 - val_loss: 0.0257 - val_acc: 0.9908\n",
      "Epoch 9/12\n",
      "60000/60000 [==============================] - 10s 160us/step - loss: 0.0309 - acc: 0.9903 - val_loss: 0.0271 - val_acc: 0.9918\n",
      "Epoch 10/12\n",
      "60000/60000 [==============================] - 10s 160us/step - loss: 0.0295 - acc: 0.9908 - val_loss: 0.0292 - val_acc: 0.9910\n",
      "Epoch 11/12\n",
      "60000/60000 [==============================] - 10s 163us/step - loss: 0.0287 - acc: 0.9912 - val_loss: 0.0242 - val_acc: 0.9926\n",
      "Epoch 12/12\n",
      "60000/60000 [==============================] - 10s 165us/step - loss: 0.0267 - acc: 0.9917 - val_loss: 0.0246 - val_acc: 0.9933\n",
      "Test loss:  0.024604441583991866\n",
      "Test accuracy: 0.9933\n"
     ]
    }
   ],
   "source": [
    "seventh_model = a_better_model(dropout_1= True , dropout_2 = True)"
   ]
  },
  {
   "cell_type": "code",
   "execution_count": 1,
   "metadata": {},
   "outputs": [
    {
     "name": "stderr",
     "output_type": "stream",
     "text": [
      "Using TensorFlow backend.\n"
     ]
    }
   ],
   "source": [
    "from keras.callbacks import TensorBoard"
   ]
  }
 ],
 "metadata": {
  "kernelspec": {
   "display_name": "Python 3",
   "language": "python",
   "name": "python3"
  },
  "language_info": {
   "codemirror_mode": {
    "name": "ipython",
    "version": 3
   },
   "file_extension": ".py",
   "mimetype": "text/x-python",
   "name": "python",
   "nbconvert_exporter": "python",
   "pygments_lexer": "ipython3",
   "version": "3.6.4"
  }
 },
 "nbformat": 4,
 "nbformat_minor": 2
}
